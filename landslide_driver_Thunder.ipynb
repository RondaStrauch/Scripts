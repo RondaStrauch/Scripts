{
 "cells": [
  {
   "cell_type": "markdown",
   "metadata": {},
   "source": [
    "## Example of Landlab 'landslide' component"
   ]
  },
  {
   "cell_type": "code",
   "execution_count": null,
   "metadata": {
    "collapsed": true
   },
   "outputs": [],
   "source": []
  },
  {
   "cell_type": "markdown",
   "metadata": {},
   "source": [
    "This tutorial provides an example driver code that runs Landlab's 'landslide' component.\n",
    "What a driver does is gathers input data, run the Landlab landslide component, and visualizes data and outputs.\n",
    "Landlab is a Python-based landscape modeling environment and the landslide component is one of many components available for users to access and link together to build their own landscape model.\n",
    "For more information about Landlab, see http://landlab.github.io/#/.\n",
    "\n",
    "Input data is provide by the user and consists of elevation from a DEM to provide topographic traits such as slope, contributing area, and flow direction. The user also supplies soil characteristics derived from a soil survey,\n",
    "land cover, or other sources, including transmissivity, cohesion, internal angle of friction, density, and thickness. \n",
    "Data for this example can be acquired from https://www.HydroShare.org under the resource \"Thunder Creek Landlab Landslide Example\".\n",
    "\n",
    "Method calculates factor-of-safety stability index by using node specific parameters, creating distributions of these parameters, and calculating the index by sampling these distributions 'n' times. The index is calculated from the 'infinite slope stabilty factor-of-safety equation' in the format of Pack RT, Tarboton DG, and Goodwin CN (1998) 'The SINMAP approach to terrain stability mapping.'\n",
    "\n",
    "Output includes figures of relative wetness, mean factor-of-safety, and probability of failure based on \n",
    "factor-of-safety calculations within a Monte Carlo simulation.\n",
    "\n",
    "This version allows users to provide just a minimum and maximum recharge that us used in a uniform distribution rather than a spatially distributed recharge field. Thus, it is for testing and teaching purposes. It is design to run from the\n",
    "same directory where the data files are located.\n",
    "\n",
    "@author: R.Strauch and E.Istanbulluoglu - Univerity of Washington Created on Thu Aug 20 16:47:11 2015 Last edit July 20, 2016\n"
   ]
  },
  {
   "cell_type": "markdown",
   "metadata": {},
   "source": [
    "### To run example"
   ]
  },
  {
   "cell_type": "markdown",
   "metadata": {},
   "source": [
    "To run this example, click in each shaded cell below and \"shift + enter\" to run each cell.\n",
    "Alternatively, you can run groups of cells by clicking \"Cell\" on the menu above and selecting you run option.  This is also where you can clear outputs from previous runs.\n",
    "\n",
    "If an error occurs, try \"Restart\" the kernel by clicking \"Kernel\" on the menu above."
   ]
  },
  {
   "cell_type": "markdown",
   "metadata": {},
   "source": [
    "### Import libraries and components"
   ]
  },
  {
   "cell_type": "code",
   "execution_count": null,
   "metadata": {
    "collapsed": false
   },
   "outputs": [],
   "source": [
    "import numpy as np\n",
    "import matplotlib.pyplot as plt\n",
    "import matplotlib as mpl\n",
    "%matplotlib inline\n",
    "import pylab\n",
    "from landlab.plot.imshow import imshow_node_grid\n",
    "from landlab.io import read_esri_ascii\n",
    "from landlab.components.landslides import LandslideProbability\n",
    "\n",
    "import time\n",
    "st = time.time()"
   ]
  },
  {
   "cell_type": "markdown",
   "metadata": {},
   "source": [
    "NOTE - Warnings about matplotlib and gFlex are OKAY and won't affect running the component."
   ]
  },
  {
   "cell_type": "markdown",
   "metadata": {},
   "source": [
    "### Load grid, fields, and constants"
   ]
  },
  {
   "cell_type": "markdown",
   "metadata": {},
   "source": [
    "Reading a esri_ascii file from ArcGIS sets up the RasterModelGrid and assign elevation field to nodes. Nodes are the center point of grid cells or pixels that are 30 m by 30 m in this example.\n",
    "The ascii (txt) files are located in the same directory where this notebook is run.\n",
    "This might take 30 seconds."
   ]
  },
  {
   "cell_type": "code",
   "execution_count": null,
   "metadata": {
    "collapsed": false
   },
   "outputs": [],
   "source": [
    "(grid, z) = read_esri_ascii('thun_elevation.txt',\n",
    "                          name='topographic__elevation')\n",
    "grid.at_node.keys()"
   ]
  },
  {
   "cell_type": "markdown",
   "metadata": {},
   "source": [
    "Check what other fields you need for this 'landslide' component.  Fields are data values that are assigned to each node, providing spatial variability to landscape."
   ]
  },
  {
   "cell_type": "code",
   "execution_count": null,
   "metadata": {
    "collapsed": false
   },
   "outputs": [],
   "source": [
    "sorted(LandslideProbability.input_var_names)"
   ]
  },
  {
   "cell_type": "markdown",
   "metadata": {},
   "source": [
    "Load and add other fields to your grid. This will take 1  to 2 minutes, depending on how large is your study domain. In this example, there are 1,543,616 nodes, which covers 1,389 sq km (536 sq mi) in this example.  To confirm, try the code below."
   ]
  },
  {
   "cell_type": "code",
   "execution_count": null,
   "metadata": {
    "collapsed": false
   },
   "outputs": [],
   "source": [
    "grid.number_of_nodes"
   ]
  },
  {
   "cell_type": "code",
   "execution_count": null,
   "metadata": {
    "collapsed": false
   },
   "outputs": [],
   "source": [
    "(grid1, slope) = read_esri_ascii('thun_slope.txt')\n",
    "grid.add_field('node', 'topographic__slope', slope)\n",
    "(grid1, ca) = read_esri_ascii('thun_sp_ca.txt')\n",
    "grid.add_field('node', 'topographic__specific_contributing_area', ca)\n",
    "(grid1, T) = read_esri_ascii('thun_trans.txt')\n",
    "grid.add_field('node', 'soil__transmissivity', T)\n",
    "(grid1, C) = read_esri_ascii('thun_cmode.txt')\n",
    "C[C == 0.0] = 1.0  # ensure not 0 Pa for use in distributions generation\n",
    "grid.add_field('node', 'soil__mode_total_cohesion', C)\n",
    "(grid1, C_min) = read_esri_ascii('thun_cmin.txt')\n",
    "grid.add_field('node', 'soil__minimum_total_cohesion', C_min)\n",
    "(grid1, C_max) = read_esri_ascii('thun_cmax.txt')\n",
    "grid.add_field('node', 'soil__maximum_total_cohesion', C_max)\n",
    "(grid1, phi) = read_esri_ascii('thun_phi.txt')\n",
    "grid.add_field('node', 'soil__internal_friction_angle', phi)\n",
    "(grid1, hs) = read_esri_ascii('thun_soil_dpt.txt')\n",
    "grid.add_field('node', 'soil__thickness', hs)"
   ]
  },
  {
   "cell_type": "markdown",
   "metadata": {},
   "source": [
    "Note - Values of -9999 are areas that have no data or are outside our area of interest, which are within the input txt files."
   ]
  },
  {
   "cell_type": "markdown",
   "metadata": {},
   "source": [
    "Create a constant field (same value at every node) for soil density."
   ]
  },
  {
   "cell_type": "code",
   "execution_count": null,
   "metadata": {
    "collapsed": true
   },
   "outputs": [],
   "source": [
    "grid['node']['soil__density'] = 2000*np.ones(grid.number_of_nodes)"
   ]
  },
  {
   "cell_type": "markdown",
   "metadata": {},
   "source": [
    "Check the units of the cohesion fields or any other input variable with the command below."
   ]
  },
  {
   "cell_type": "code",
   "execution_count": null,
   "metadata": {
    "collapsed": false
   },
   "outputs": [],
   "source": [
    "LandslideProbability.var_units('soil__mode_total_cohesion')"
   ]
  },
  {
   "cell_type": "markdown",
   "metadata": {},
   "source": [
    "Add the watershed boundary and mapped landslides to our grid for plot overlays.  This takes about 30 seconds."
   ]
  },
  {
   "cell_type": "code",
   "execution_count": null,
   "metadata": {
    "collapsed": false
   },
   "outputs": [],
   "source": [
    "(grid1, watershed) = read_esri_ascii('thun_wsline.txt')\n",
    "grid.add_field('node', 'Thunder_Creek_watershed', watershed)\n",
    "(grid1, slides) = read_esri_ascii('thun_ls_type.txt')\n",
    "grid.add_field('node', 'landslides', slides)"
   ]
  },
  {
   "cell_type": "markdown",
   "metadata": {},
   "source": [
    "### Set boundary conditions"
   ]
  },
  {
   "cell_type": "markdown",
   "metadata": {},
   "source": [
    "Boundary conditions are where we want to limit our analysis, such as the areas that did not have -9999 values.  We can also add an analysis to a subset of our domain by using a mask that has value = 1 for nodes we want to include and value = -9999 for the nodes we want to exclude in our analysis."
   ]
  },
  {
   "cell_type": "code",
   "execution_count": null,
   "metadata": {
    "collapsed": false
   },
   "outputs": [],
   "source": [
    "(grid1,mask) = read_esri_ascii('thun_area_msk.txt') # to limit analysis\n",
    "grid.add_field('node', 'Thunder_Area_mask', mask)"
   ]
  },
  {
   "cell_type": "markdown",
   "metadata": {},
   "source": [
    "Set nodes to closed when field value is -9999 (no data) or when slope or soil thickness is zero,\n",
    "which causes errors from division by zero when calculating factor-of-safety within the landslide component."
   ]
  },
  {
   "cell_type": "code",
   "execution_count": null,
   "metadata": {
    "collapsed": true
   },
   "outputs": [],
   "source": [
    "grid.set_nodata_nodes_to_closed(grid.at_node['topographic__elevation'], -9999)\n",
    "grid.set_nodata_nodes_to_closed(grid.at_node['topographic__slope'], -9999)\n",
    "grid.set_nodata_nodes_to_closed(grid.at_node['topographic__slope'], 0.0)\n",
    "grid.set_nodata_nodes_to_closed(grid.at_node[\n",
    "        'topographic__specific_contributing_area'], -9999)\n",
    "grid.set_nodata_nodes_to_closed(grid.at_node['soil__transmissivity'], -9999)\n",
    "grid.set_nodata_nodes_to_closed(grid.at_node[\n",
    "        'soil__mode_total_cohesion'], -9999)\n",
    "grid.set_nodata_nodes_to_closed(grid.at_node[\n",
    "        'soil__minimum_total_cohesion'], -9999)\n",
    "grid.set_nodata_nodes_to_closed(grid.at_node[\n",
    "        'soil__maximum_total_cohesion'], -9999)\n",
    "grid.set_nodata_nodes_to_closed(grid.at_node[\n",
    "        'soil__internal_friction_angle'], -9999)\n",
    "grid.set_nodata_nodes_to_closed(grid.at_node['soil__thickness'], -9999)\n",
    "grid.set_nodata_nodes_to_closed(grid.at_node['soil__thickness'], 0.0)\n",
    "grid.set_nodata_nodes_to_closed(grid.at_node['Thunder_Area_mask'], -9999)"
   ]
  },
  {
   "cell_type": "markdown",
   "metadata": {},
   "source": [
    "Select the minimum and maximum annual peak recharge for your location in mm/day.  This represents the range of the wettest conditions expected annually, which is the severest soil-saturated conditions likely to occur at least once a year.  High soil saturation may occur more frequently than one day a year, thus, the instability index based on recharge is likely conservative."
   ]
  },
  {
   "cell_type": "code",
   "execution_count": null,
   "metadata": {
    "collapsed": false
   },
   "outputs": [],
   "source": [
    "groundwater__recharge_minimum = 14.3\n",
    "groundwater__recharge_maximum = 44.3\n",
    "groundwater__recharge_maximum"
   ]
  },
  {
   "cell_type": "markdown",
   "metadata": {},
   "source": [
    "### Run landslide component to calculate probability of failure"
   ]
  },
  {
   "cell_type": "markdown",
   "metadata": {},
   "source": [
    "The landslide component employes the infinite slope model to calculate factor-of-safety values using a Monte Carlo simulation approach, which randomly selects input values from parameter distributions.  You can pick the number of iterations to run Monte Carlo simulations.  The higher the number of iteration, the longer the program runs, but the more precise the probability of failure result becomes."
   ]
  },
  {
   "cell_type": "code",
   "execution_count": null,
   "metadata": {
    "collapsed": true
   },
   "outputs": [],
   "source": [
    "number_of_simulations = 25"
   ]
  },
  {
   "cell_type": "markdown",
   "metadata": {},
   "source": [
    "Instantiate the landslide component.  This is where you access the component and provide you user-specified input parameters."
   ]
  },
  {
   "cell_type": "code",
   "execution_count": null,
   "metadata": {
    "collapsed": true
   },
   "outputs": [],
   "source": [
    "LS_prob = LandslideProbability(\n",
    "    grid, number_of_simulations=number_of_simulations,\n",
    "    groundwater__recharge_minimum=groundwater__recharge_minimum,\n",
    "    groundwater__recharge_maximum=groundwater__recharge_maximum)"
   ]
  },
  {
   "cell_type": "markdown",
   "metadata": {},
   "source": [
    "Check what output you should expect when you run the component."
   ]
  },
  {
   "cell_type": "code",
   "execution_count": null,
   "metadata": {
    "collapsed": false
   },
   "outputs": [],
   "source": [
    "sorted(LS_prob.output_var_names)"
   ]
  },
  {
   "cell_type": "markdown",
   "metadata": {},
   "source": [
    "Run component for all core nodes in domain (977,394 in this example) by passing data from fields we imported earlier and \n",
    "user-specified parameters above to the FactorofSafety class within the component.  Core nodes are the nodes (grid cells) that we want our analysis to work on.\n",
    "Running component also populates storage arrays with calculated values from component to use for plotting.  This can take 5 minute or more depending on size of domain and number of simulations specified above (default is 250)."
   ]
  },
  {
   "cell_type": "code",
   "execution_count": null,
   "metadata": {
    "collapsed": false,
    "scrolled": true
   },
   "outputs": [],
   "source": [
    "LS_prob.calculate_landslide_probability()"
   ]
  },
  {
   "cell_type": "markdown",
   "metadata": {},
   "source": [
    "Review outputs from the component, such as the calculated factor-of-safety\n",
    "values of only ONE core node.  This data is available at all core nodes."
   ]
  },
  {
   "cell_type": "code",
   "execution_count": null,
   "metadata": {
    "collapsed": false
   },
   "outputs": [],
   "source": [
    "core_nodes = LS_prob.grid.core_nodes\n",
    "LS_prob.landslide__factor_of_safety_histogram[core_nodes[10]]\n",
    "# 10 is an index of the 11th core node, not node id"
   ]
  },
  {
   "cell_type": "markdown",
   "metadata": {},
   "source": [
    "### Make plots and figures"
   ]
  },
  {
   "cell_type": "markdown",
   "metadata": {},
   "source": [
    "Set plotting parameters"
   ]
  },
  {
   "cell_type": "code",
   "execution_count": null,
   "metadata": {
    "collapsed": true
   },
   "outputs": [],
   "source": [
    "core_nodes\n",
    "mpl.rcParams['xtick.labelsize'] = 15\n",
    "mpl.rcParams['ytick.labelsize'] = 15\n",
    "mpl.rcParams['lines.linewidth'] = 1\n",
    "mpl.rcParams['axes.labelsize'] = 18\n",
    "mpl.rcParams['legend.fontsize'] = 15"
   ]
  },
  {
   "cell_type": "markdown",
   "metadata": {},
   "source": [
    "Plot elevation overlain with watershed boundary and countours"
   ]
  },
  {
   "cell_type": "code",
   "execution_count": null,
   "metadata": {
    "collapsed": false,
    "scrolled": true
   },
   "outputs": [],
   "source": [
    "plt.figure('Elevations from the DEM [m]')\n",
    "watershed_line = grid.at_node['Thunder_Creek_watershed'] < 0.0\n",
    "overlay_watershed = np.ma.array(grid.at_node['Thunder_Creek_watershed'],\n",
    "                                mask=watershed_line)\n",
    "imshow_node_grid(grid, 'topographic__elevation', cmap='terrain',\n",
    "                 grid_units=('coordinates', 'coordinates'),\n",
    "                 shrink=0.75, var_name='Elevation', var_units='m')\n",
    "elev = grid.node_vector_to_raster(z)\n",
    "cs = pylab.contour(elev, extent=[0,42500, 0,32500], hold='on', colors='black')\n",
    "manual_locals = [(11000,11000), (14000,30000), (20000,8000), (36000,3000)]\n",
    "pylab.clabel(cs, inline=True, fmt='%1i', fontsize=10, manual=manual_locals)\n",
    "imshow_node_grid(grid, overlay_watershed, color_for_closed='None',\n",
    "                 allow_colorbar=False, cmap='spring')"
   ]
  },
  {
   "cell_type": "markdown",
   "metadata": {},
   "source": [
    "This map shows the watershed boundaries in pink over topography."
   ]
  },
  {
   "cell_type": "markdown",
   "metadata": {},
   "source": [
    "Plot slope overlain with mapped landslide types and contours. Takes about a minute."
   ]
  },
  {
   "cell_type": "code",
   "execution_count": null,
   "metadata": {
    "collapsed": false,
    "scrolled": true
   },
   "outputs": [],
   "source": [
    "plt.figure('Landslides')\n",
    "ls_mask1 = grid.at_node['landslides'] != 1.0\n",
    "ls_mask2 = grid.at_node['landslides'] != 2.0\n",
    "ls_mask3 = grid.at_node['landslides'] != 3.0\n",
    "ls_mask4 = grid.at_node['landslides'] != 4.0\n",
    "overlay_landslide1 = np.ma.array(grid.at_node['landslides'], mask=ls_mask1)\n",
    "overlay_landslide2 = np.ma.array(grid.at_node['landslides'], mask=ls_mask2)\n",
    "overlay_landslide3 = np.ma.array(grid.at_node['landslides'], mask=ls_mask3)\n",
    "overlay_landslide4 = np.ma.array(grid.at_node['landslides'], mask=ls_mask4)\n",
    "imshow_node_grid(grid, 'topographic__slope', cmap='pink',\n",
    "                 grid_units=('coordinates', 'coordinates'), vmax=2.,\n",
    "                 shrink=0.75, var_name='Slope', var_units='m/m')\n",
    "imshow_node_grid(grid, overlay_landslide1, color_for_closed='None',\n",
    "                 allow_colorbar=False, cmap='cool')\n",
    "imshow_node_grid(grid, overlay_landslide2, color_for_closed='None',\n",
    "                 allow_colorbar=False, cmap='autumn')\n",
    "imshow_node_grid(grid, overlay_landslide3, color_for_closed='None',\n",
    "                 allow_colorbar=False, cmap='winter')\n",
    "imshow_node_grid(grid, overlay_landslide4, color_for_closed='None',\n",
    "                 allow_colorbar=False,cmap='summer')\n",
    "cs = pylab.contour(elev, extent=[0,42500, 0,32500], hold='on', colors='black')\n",
    "pylab.clabel(cs, inline=True, fmt='%1i', fontsize=10, manual=manual_locals)\n",
    "imshow_node_grid(grid, overlay_watershed, color_for_closed='None',\n",
    "                 allow_colorbar=False, cmap='spring')"
   ]
  },
  {
   "cell_type": "markdown",
   "metadata": {},
   "source": [
    "This map shows slope with mapped landslides (blue - debris avalanches, cyan - falls/topples,\n",
    "red - debris torrents, and gren - slumps/creeps)."
   ]
  },
  {
   "cell_type": "markdown",
   "metadata": {},
   "source": [
    "Plot soil thickness with contours"
   ]
  },
  {
   "cell_type": "code",
   "execution_count": null,
   "metadata": {
    "collapsed": false
   },
   "outputs": [],
   "source": [
    "plt.figure('Soil Thickness')\n",
    "imshow_node_grid(grid, 'soil__thickness', cmap='copper_r',\n",
    "                 grid_units=('coordinates', 'coordinates'), shrink=0.75,\n",
    "                 var_name='Soil Thickness', var_units='m')\n",
    "cs = pylab.contour(elev, extent=[0,42500, 0,32500], hold='on', colors='black')\n",
    "pylab.clabel(cs, inline=True, fmt='%1i', fontsize=10, manual=manual_locals)\n",
    "imshow_node_grid(grid, overlay_watershed, color_for_closed='None',\n",
    "                 allow_colorbar=False, cmap='spring')"
   ]
  },
  {
   "cell_type": "markdown",
   "metadata": {},
   "source": [
    "Plot cohesion mode with contours"
   ]
  },
  {
   "cell_type": "code",
   "execution_count": null,
   "metadata": {
    "collapsed": false,
    "scrolled": true
   },
   "outputs": [],
   "source": [
    "plt.figure('Cohesion')\n",
    "imshow_node_grid(grid, 'soil__mode_total_cohesion', cmap='Greens',\n",
    "                 grid_units=('coordinates', 'coordinates'), shrink=0.75,\n",
    "                 var_name='Cohesion', var_units='Pa')\n",
    "cs = pylab.contour(elev, extent=[0,42500, 0,32500], hold='on', colors='black')\n",
    "pylab.clabel(cs, inline=True, fmt='%1i', fontsize=10, manual=manual_locals)\n",
    "imshow_node_grid(grid, overlay_watershed, color_for_closed='None',\n",
    "                 allow_colorbar=False, cmap='spring')"
   ]
  },
  {
   "cell_type": "markdown",
   "metadata": {},
   "source": [
    "This map shows total cohesion, where the dark green areas represent forests."
   ]
  },
  {
   "cell_type": "markdown",
   "metadata": {},
   "source": [
    "Plot transmissivity with countours"
   ]
  },
  {
   "cell_type": "code",
   "execution_count": null,
   "metadata": {
    "collapsed": false
   },
   "outputs": [],
   "source": [
    "plt.figure('Transmissivity')\n",
    "imshow_node_grid(grid, 'soil__transmissivity', cmap='Purples',\n",
    "                 grid_units=('coordinates', 'coordinates'), shrink=0.75,\n",
    "                 var_name='Transmissivity', var_units='m2/d')\n",
    "cs = pylab.contour(elev, extent=[0,42500, 0,32500], hold='on', colors='black')\n",
    "pylab.clabel(cs, inline=True, fmt='%1i', fontsize=10, manual=manual_locals)\n",
    "imshow_node_grid(grid, overlay_watershed, color_for_closed='None',\n",
    "                 allow_colorbar=False, cmap='spring')"
   ]
  },
  {
   "cell_type": "markdown",
   "metadata": {},
   "source": [
    "This map shows soil transmissivity where the darker colors indicate higher transmissivity in the ticker soils of the valley bottoms."
   ]
  },
  {
   "cell_type": "markdown",
   "metadata": {},
   "source": [
    "Plot relative wetness with countours"
   ]
  },
  {
   "cell_type": "code",
   "execution_count": null,
   "metadata": {
    "collapsed": false,
    "scrolled": true
   },
   "outputs": [],
   "source": [
    "plt.figure('Mean Relative Wetness')\n",
    "imshow_node_grid(grid, 'soil__mean_relative_wetness', cmap='YlGnBu',\n",
    "                 grid_units=('coordinates', 'coordinates'),\n",
    "                 shrink=0.75, var_name='Relative Wetness',\n",
    "                 var_units='no units')\n",
    "cs = pylab.contour(elev, extent=[0,42500, 0,32500], hold='on', colors='gray')\n",
    "pylab.clabel(cs, inline=True, fmt='%1i', fontsize=10, manual=manual_locals)\n",
    "imshow_node_grid(grid, overlay_watershed, color_for_closed='None',\n",
    "                 allow_colorbar=False, cmap='spring')"
   ]
  },
  {
   "cell_type": "markdown",
   "metadata": {},
   "source": [
    "This map shows the relative wetness as high throughout the areas because we modeled the annual peak recharge, which is esssentially the worst case conditions that might lead to instability."
   ]
  },
  {
   "cell_type": "markdown",
   "metadata": {},
   "source": [
    "Plot mean factor-of-safety with contours. Note that mean factor-of-safety may not be a good indication of stability if the factor-of-safety is highly right-skewed.  "
   ]
  },
  {
   "cell_type": "code",
   "execution_count": null,
   "metadata": {
    "collapsed": false,
    "scrolled": true
   },
   "outputs": [],
   "source": [
    "plt.figure('Mean Factor of Safety')\n",
    "imshow_node_grid(grid, 'landslide__mean_factor_of_safety', cmap='OrRd_r',\n",
    "                 grid_units=('coordinates', 'coordinates'), vmax=5.,\n",
    "                 shrink=0.75, var_name='Factor of Safety',\n",
    "                 var_units='no units')\n",
    "cs = pylab.contour(elev, extent=[0,42500, 0,32500], hold='on', colors='black')\n",
    "pylab.clabel(cs, inline=True, fmt='%1i', fontsize=10, manual=manual_locals)\n",
    "imshow_node_grid(grid, overlay_watershed, color_for_closed='None',\n",
    "                 allow_colorbar=False, cmap='spring')"
   ]
  },
  {
   "cell_type": "markdown",
   "metadata": {},
   "source": [
    "This map shows the mean factor-of-safety at each node based on 25 (number of simulations) calculations of factor-of-safety."
   ]
  },
  {
   "cell_type": "markdown",
   "metadata": {},
   "source": [
    "Plot probability of failure with contours"
   ]
  },
  {
   "cell_type": "code",
   "execution_count": null,
   "metadata": {
    "collapsed": false
   },
   "outputs": [],
   "source": [
    "plt.figure('Probability of Failure')\n",
    "imshow_node_grid(grid, 'landslide__probability_of_failure', cmap='OrRd',\n",
    "                 grid_units=('coordinates', 'coordinates'), shrink=0.75,\n",
    "                 var_name='Probability of Failure', var_units='no units')\n",
    "cs = pylab.contour(elev, extent=[0,42500, 0,32500], hold='on', colors='black')\n",
    "pylab.clabel(cs, inline=True, fmt='%1i', fontsize=10, manual=manual_locals)\n",
    "imshow_node_grid(grid, overlay_watershed, color_for_closed='None',\n",
    "                 allow_colorbar=False, cmap='spring')"
   ]
  },
  {
   "cell_type": "markdown",
   "metadata": {},
   "source": [
    "This map shows the probability of failure based on then number of simulations where the factor-of-safety was <= 1.0 out all the simulations. The probability tends to be higer in the upper portions of the watershed where cohesion is less and soils are shallower, quickly saturating."
   ]
  },
  {
   "cell_type": "markdown",
   "metadata": {},
   "source": [
    "Plot the factor-of-safety histogram at one node and check its probability of failure."
   ]
  },
  {
   "cell_type": "code",
   "execution_count": null,
   "metadata": {
    "collapsed": false,
    "scrolled": true
   },
   "outputs": [],
   "source": [
    "example_FS_dist = LS_prob.landslide__factor_of_safety_histogram[\n",
    "    core_nodes[46]]  # node array index, not node id\n",
    "plt.figure('Ex_FS_Distribution')\n",
    "plt.hist(example_FS_dist, 22)\n",
    "plt.plot([1, 1], [0, 4], color='r', linestyle='-', linewidth=3)\n",
    "plt.title('Sample FS Distribution at one node')\n",
    "plt.ylabel('Frequency')\n",
    "plt.xlabel('Calculated Factor-of-Safety')\n",
    "\n",
    "grid['node']['landslide__probability_of_failure'][core_nodes[46]]"
   ]
  },
  {
   "cell_type": "markdown",
   "metadata": {},
   "source": [
    "This shows a histogram of the calculated factor-of-safety values at one node.  The probability of failure is determined as the number of calculated factor-of-safety values <= 1.0 (red line) divided by the total number of simulated factor-of-safety values (i.e., number of simulations user specified). The probability value will vary based on the randomness in generated data fields above and input parameter distributions generated by the component from which the simulations are sampling when calculating each factor-of-safety value.\n",
    "\n",
    "To save plots, run \"plt.savefig('figure_name.png', dpi=300)\" and put in your own path and figure name."
   ]
  },
  {
   "cell_type": "markdown",
   "metadata": {},
   "source": [
    "####Now it is your turn to explore the component and your particular site.  For example, try reducing your cohesion by 50% (perhaps a low intensity fire) or increasing your recharge by 20% (wetter conditions). Then rerun the component to see how the probabilty of failure changes."
   ]
  },
  {
   "cell_type": "code",
   "execution_count": null,
   "metadata": {
    "collapsed": true
   },
   "outputs": [],
   "source": [
    "print 'Elapsed time is %3.2f seconds' % (time.time() - st)"
   ]
  }
 ],
 "metadata": {
  "kernelspec": {
   "display_name": "Python 2",
   "language": "python",
   "name": "python2"
  },
  "language_info": {
   "codemirror_mode": {
    "name": "ipython",
    "version": 2
   },
   "file_extension": ".py",
   "mimetype": "text/x-python",
   "name": "python",
   "nbconvert_exporter": "python",
   "pygments_lexer": "ipython2",
   "version": "2.7.10"
  }
 },
 "nbformat": 4,
 "nbformat_minor": 0
}
